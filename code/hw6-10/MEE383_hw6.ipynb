{
 "cells": [
  {
   "cell_type": "code",
   "execution_count": 1,
   "id": "76f6ff8f",
   "metadata": {},
   "outputs": [],
   "source": [
    "import matplotlib.pyplot as plt\n",
    "import numpy as np\n",
    "from matplotlib.pyplot import figure\n",
    "import pandas as pd"
   ]
  },
  {
   "cell_type": "code",
   "execution_count": 2,
   "id": "2b782202",
   "metadata": {},
   "outputs": [],
   "source": [
    "zID = [1, 8, 7, 5, 1, 10, 1]\n",
    "\n",
    "A = zID[1]\n",
    "B = zID[2]\n",
    "C = zID[3]\n",
    "D = zID[4]\n",
    "E = zID[5]\n",
    "F = zID[6]"
   ]
  },
  {
   "cell_type": "code",
   "execution_count": 3,
   "id": "87bc8750",
   "metadata": {},
   "outputs": [],
   "source": [
    "NP = np.array([[-6, 1, -5, -1, 15, 0, -7], [0, -5, -5, 1, 6, -9, -8], [-2, 8, 4, -2, 6, 0, 4],\n",
    "              [9, -5, 7, 1, -9, 0, 6], [-9, 1, 1, 7, -7, -6, -8], [-5, 3, 9, -9, 4, -8, -9],\n",
    "              [-3, 7, 6, 10, 8, -2, -1]])\n",
    "NP = NP.astype(float)"
   ]
  },
  {
   "cell_type": "code",
   "execution_count": 4,
   "id": "7a883755",
   "metadata": {
    "scrolled": true
   },
   "outputs": [
    {
     "name": "stdout",
     "output_type": "stream",
     "text": [
      "     0    1    2     3     4    5    6\n",
      "0 -6.0  1.0 -5.0  -1.0  15.0  0.0 -7.0\n",
      "1  0.0 -5.0 -5.0   1.0   6.0 -9.0 -8.0\n",
      "2 -2.0  8.0  4.0  -2.0   6.0  0.0  4.0\n",
      "3  9.0 -5.0  7.0   1.0  -9.0  0.0  6.0\n",
      "4 -9.0  1.0  1.0   7.0  -7.0 -6.0 -8.0\n",
      "5 -5.0  3.0  9.0  -9.0   4.0 -8.0 -9.0\n",
      "6 -3.0  7.0  6.0  10.0   8.0 -2.0 -1.0\n"
     ]
    }
   ],
   "source": [
    "print(pd.DataFrame(NP))"
   ]
  },
  {
   "cell_type": "code",
   "execution_count": 5,
   "id": "58893000",
   "metadata": {},
   "outputs": [
    {
     "name": "stdout",
     "output_type": "stream",
     "text": [
      "     0    1    2    3           4           5          6\n",
      "0  1.0  0.0  0.0  0.0    3.571429   -7.285714  -1.904762\n",
      "1 -0.0  1.0  0.0  0.0   -0.785714   -2.357143   0.119048\n",
      "2 -0.0  0.0  1.0  0.0   -3.928571    6.214286   2.595238\n",
      "3 -0.0 -0.0 -0.0  1.0  -17.571429   10.285714   5.571429\n",
      "4  0.0  0.0  0.0  0.0  152.857143 -147.428571 -66.857143\n",
      "5  0.0  0.0  0.0  0.0  -98.571429   -0.714286   7.904762\n",
      "6  0.0  0.0  0.0  0.0  223.500000 -147.500000 -78.833333\n"
     ]
    }
   ],
   "source": [
    "i = -1\n",
    "while i < 3:\n",
    "    i+=1\n",
    "    NP[i] = NP[i] / NP[i,i]\n",
    "    j = i\n",
    "    while j < 6:\n",
    "        j+=1\n",
    "        NP[j,0:7] = NP[j,0:7] - (NP[i,0:7] * NP[j,i])\n",
    "        \n",
    "i = 4\n",
    "while i > 0:\n",
    "    i = i -1 \n",
    "    j = i\n",
    "    while j > 0:\n",
    "        j= j - 1\n",
    "        NP[j,1:7] = NP[j,1:7] - (NP[i,1:7] * NP[j,i])\n",
    "        \n",
    "NpDataFrame = pd.DataFrame(NP)\n",
    "print(NpDataFrame)\n"
   ]
  }
 ],
 "metadata": {
  "kernelspec": {
   "display_name": "Python 3",
   "language": "python",
   "name": "python3"
  },
  "language_info": {
   "codemirror_mode": {
    "name": "ipython",
    "version": 3
   },
   "file_extension": ".py",
   "mimetype": "text/x-python",
   "name": "python",
   "nbconvert_exporter": "python",
   "pygments_lexer": "ipython3",
   "version": "3.9.6"
  }
 },
 "nbformat": 4,
 "nbformat_minor": 5
}
